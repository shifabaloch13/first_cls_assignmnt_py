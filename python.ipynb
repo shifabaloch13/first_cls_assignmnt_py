{
 "cells": [
  {
   "cell_type": "code",
   "execution_count": null,
   "metadata": {},
   "outputs": [
    {
     "name": "stdout",
     "output_type": "stream",
     "text": [
      "My_Name\n",
      "hiii muhammmad welcome to world\n"
     ]
    }
   ],
   "source": [
    "# string\n",
    "\n",
    "my_Name = \"shifa\"\n",
    "\n",
    "print(\"My_Name\")\n",
    "\n",
    "# Doc string\n",
    "\n",
    "My_self = '''\n",
    "        my name is shifa .\n",
    "          and i m 19 years old .    \n",
    "          and i m a student\n",
    "\n",
    "'''\n",
    "\n",
    "#f string\n",
    "\n",
    "fstring = \"muhammmad\"\n",
    "print(f\"hiii {fstring} welcome to world\")\n",
    "\n"
   ]
  },
  {
   "cell_type": "code",
   "execution_count": 22,
   "metadata": {},
   "outputs": [
    {
     "name": "stdout",
     "output_type": "stream",
     "text": [
      "34\n",
      "56.98\n"
     ]
    }
   ],
   "source": [
    "# Number \n",
    "\n",
    "# integer \n",
    "\n",
    "my_num1 = 34\n",
    "print(my_num1)\n",
    "\n",
    "\n",
    "# Float\n",
    "My_num2 = 56.980\n",
    "print(My_num2)"
   ]
  },
  {
   "cell_type": "code",
   "execution_count": 23,
   "metadata": {},
   "outputs": [
    {
     "name": "stdout",
     "output_type": "stream",
     "text": [
      "False\n",
      "True\n"
     ]
    }
   ],
   "source": [
    "# Boolean\n",
    "\n",
    "is_that_true = False \n",
    "\n",
    "is_that_lie = True\n",
    "\n",
    "print(is_that_true)\n",
    "print(is_that_lie)"
   ]
  },
  {
   "cell_type": "code",
   "execution_count": 27,
   "metadata": {},
   "outputs": [
    {
     "name": "stdout",
     "output_type": "stream",
     "text": [
      "red\n"
     ]
    }
   ],
   "source": [
    "# Tuple \n",
    "\n",
    "colors = (\"red\", \"green\", \"yellow\", \"pink\" )\n",
    "print(colors[0])"
   ]
  },
  {
   "cell_type": "code",
   "execution_count": null,
   "metadata": {},
   "outputs": [
    {
     "name": "stdout",
     "output_type": "stream",
     "text": [
      "098765434\n"
     ]
    }
   ],
   "source": [
    "# Dictionary\n",
    "phone_book = {\n",
    "    \"ayesha\" : \"098765434\",\n",
    "    \"ali\" : \"0988765678\",\n",
    "\"mustafa\" : \"67890987\",\n",
    "\n",
    "}  \n",
    "print(phone_book[\"ayesha\"])  "
   ]
  },
  {
   "cell_type": "code",
   "execution_count": 38,
   "metadata": {},
   "outputs": [
    {
     "name": "stdout",
     "output_type": "stream",
     "text": [
      "{'Teddy Bear', 'car', 'Rocket'}\n"
     ]
    }
   ],
   "source": [
    "# set\n",
    "\n",
    "Toys = {\"car\" , \"Teddy Bear\", \"Rocket\", }\n",
    "print(Toys)\n"
   ]
  },
  {
   "cell_type": "code",
   "execution_count": 52,
   "metadata": {},
   "outputs": [
    {
     "name": "stdout",
     "output_type": "stream",
     "text": [
      "<class 'NoneType'>\n",
      "None\n"
     ]
    }
   ],
   "source": [
    " #None\n",
    "lunch_box = None\n",
    "print(type(lunch_box))\n",
    "print(lunch_box)"
   ]
  },
  {
   "cell_type": "code",
   "execution_count": 60,
   "metadata": {},
   "outputs": [
    {
     "name": "stdout",
     "output_type": "stream",
     "text": [
      "<class 'frozenset'>\n",
      "frozenset({'teddy bear', 'car', 'ball'})\n"
     ]
    }
   ],
   "source": [
    "# frozen set\n",
    "\n",
    "toys = frozenset({\"car\", \"ball\", \"teddy bear\",})\n",
    "print(type(toys))\n",
    "print(toys)"
   ]
  },
  {
   "cell_type": "code",
   "execution_count": null,
   "metadata": {},
   "outputs": [
    {
     "name": "stdout",
     "output_type": "stream",
     "text": [
      "['apple', 'mango', 'banana', 'orange', 'graps']\n",
      "orange\n",
      "5\n",
      "['banana', 'orange']\n"
     ]
    }
   ],
   "source": [
    "\n",
    "#list\n",
    "shopping_item :list [str] = [\"apple\", \"mango\", \"banana\", \"orange\" ,\"graps\"]\n",
    "print(shopping_item)\n",
    "print(shopping_item[3])\n",
    "print(len(shopping_item))\n",
    "\n",
    "\n",
    "\n",
    " \n",
    " \n",
    "\n",
    "\n"
   ]
  }
 ],
 "metadata": {
  "kernelspec": {
   "display_name": "Python 3",
   "language": "python",
   "name": "python3"
  },
  "language_info": {
   "codemirror_mode": {
    "name": "ipython",
    "version": 3
   },
   "file_extension": ".py",
   "mimetype": "text/x-python",
   "name": "python",
   "nbconvert_exporter": "python",
   "pygments_lexer": "ipython3",
   "version": "3.11.0"
  }
 },
 "nbformat": 4,
 "nbformat_minor": 2
}
