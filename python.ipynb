{
 "cells": [
  {
   "cell_type": "code",
   "execution_count": null,
   "metadata": {},
   "outputs": [
    {
     "name": "stdout",
     "output_type": "stream",
     "text": [
      "My_Name\n",
      "hiii muhammmad welcome to world\n"
     ]
    }
   ],
   "source": [
    "# string\n",
    "\n",
    "my_Name = \"shifa\"\n",
    "\n",
    "print(\"My_Name\")\n",
    "\n",
    "# Doc string\n",
    "\n",
    "My_self = '''\n",
    "        my name is shifa .\n",
    "          and i m 19 years old .    \n",
    "          and i m a student\n",
    "\n",
    "'''\n",
    "\n",
    "#f string\n",
    "\n",
    "fstring = \"muhammmad\"\n",
    "print(f\"hiii {fstring} welcome to world\")\n",
    "\n"
   ]
  },
  {
   "cell_type": "code",
   "execution_count": 22,
   "metadata": {},
   "outputs": [
    {
     "name": "stdout",
     "output_type": "stream",
     "text": [
      "34\n",
      "56.98\n"
     ]
    }
   ],
   "source": [
    "# Number \n",
    "\n",
    "# integer \n",
    "\n",
    "my_num1 = 34\n",
    "print(my_num1)\n",
    "\n",
    "\n",
    "# Float\n",
    "My_num2 = 56.980\n",
    "print(My_num2)"
   ]
  },
  {
   "cell_type": "code",
   "execution_count": 23,
   "metadata": {},
   "outputs": [
    {
     "name": "stdout",
     "output_type": "stream",
     "text": [
      "False\n",
      "True\n"
     ]
    }
   ],
   "source": [
    "# Boolean\n",
    "\n",
    "is_that_true = False \n",
    "\n",
    "is_that_lie = True\n",
    "\n",
    "print(is_that_true)\n",
    "print(is_that_lie)"
   ]
  },
  {
   "cell_type": "code",
   "execution_count": 27,
   "metadata": {},
   "outputs": [
    {
     "name": "stdout",
     "output_type": "stream",
     "text": [
      "red\n"
     ]
    }
   ],
   "source": [
    "# Tuple \n",
    "\n",
    "colors = (\"red\", \"green\", \"yellow\", \"pink\" )\n",
    "print(colors[0])"
   ]
  },
  {
   "cell_type": "code",
   "execution_count": null,
   "metadata": {},
   "outputs": [
    {
     "name": "stdout",
     "output_type": "stream",
     "text": [
      "098765434\n"
     ]
    }
   ],
   "source": [
    "# Dictionary\n",
    "phone_book = {\n",
    "    \"ayesha\" : \"098765434\",\n",
    "    \"ali\" : \"0988765678\",\n",
    "\"mustafa\" : \"67890987\",\n",
    "\n",
    "}  \n",
    "print(phone_book[\"ayesha\"])  "
   ]
  },
  {
   "cell_type": "code",
   "execution_count": 38,
   "metadata": {},
   "outputs": [
    {
     "name": "stdout",
     "output_type": "stream",
     "text": [
      "{'Teddy Bear', 'car', 'Rocket'}\n"
     ]
    }
   ],
   "source": [
    "# set\n",
    "\n",
    "Toys = {\"car\" , \"Teddy Bear\", \"Rocket\", }\n",
    "print(Toys)\n"
   ]
  },
  {
   "cell_type": "code",
   "execution_count": 52,
   "metadata": {},
   "outputs": [
    {
     "name": "stdout",
     "output_type": "stream",
     "text": [
      "<class 'NoneType'>\n",
      "None\n"
     ]
    }
   ],
   "source": [
    " #None\n",
    "lunch_box = None\n",
    "print(type(lunch_box))\n",
    "print(lunch_box)"
   ]
  },
  {
   "cell_type": "code",
   "execution_count": 60,
   "metadata": {},
   "outputs": [
    {
     "name": "stdout",
     "output_type": "stream",
     "text": [
      "<class 'frozenset'>\n",
      "frozenset({'teddy bear', 'car', 'ball'})\n"
     ]
    }
   ],
   "source": [
    "# frozen set\n",
    "\n",
    "toys = frozenset({\"car\", \"ball\", \"teddy bear\",})\n",
    "print(type(toys))\n",
    "print(toys)"
   ]
  },
  {
   "cell_type": "code",
   "execution_count": null,
   "metadata": {},
   "outputs": [
    {
     "name": "stdout",
     "output_type": "stream",
     "text": [
      "['apple', 'mango', 'banana', 'orange', 'graps']\n",
      "orange\n",
      "5\n",
      "['banana', 'orange']\n"
     ]
    }
   ],
   "source": [
    "\n",
    "#list\n",
    "shopping_item :list [str] = [\"apple\", \"mango\", \"banana\", \"orange\" ,\"graps\"]\n",
    "print(shopping_item)\n",
    "print(shopping_item[3])\n",
    "print(len(shopping_item))\n",
    "\n",
    "\n",
    "\n",
    " \n",
    " \n",
    "\n",
    "\n"
   ]
  },
  {
   "cell_type": "code",
   "execution_count": 29,
   "metadata": {},
   "outputs": [
    {
     "data": {
      "text/plain": [
       "46"
      ]
     },
     "execution_count": 29,
     "metadata": {},
     "output_type": "execute_result"
    }
   ],
   "source": [
    "def tryparameter(a = 12, b = 13):\n",
    "\n",
    " c = a + b \n",
    " return c\n",
    "\n",
    "tryparameter(12, 34)\n",
    "\n",
    "    \n",
    " "
   ]
  },
  {
   "cell_type": "code",
   "execution_count": 5,
   "metadata": {},
   "outputs": [
    {
     "name": "stdout",
     "output_type": "stream",
     "text": [
      "Bolling water for tea \n",
      "add some milk in tea\n",
      "put some patii\n",
      "the last serve the tea\n",
      " teaaa for phopo\n"
     ]
    }
   ],
   "source": [
    "def making_tea():\n",
    "    print(\"Bolling water for tea \")\n",
    "    print(\"add some milk in tea\")\n",
    "    print(\"put some patii\")\n",
    "    print (\"the last serve the tea\")\n",
    "    return \"teaaa\"\n",
    "    \n",
    "tea1 = making_tea()\n",
    "print(f\" {tea1} for phopo\")\n"
   ]
  },
  {
   "cell_type": "code",
   "execution_count": 44,
   "metadata": {},
   "outputs": [
    {
     "name": "stdout",
     "output_type": "stream",
     "text": [
      "shifa\n",
      "i m a baby\n",
      "15\n",
      "{'name': 'shifa', 'father_name': 'akram', 'age': 15, 'country': 'pakistan'}\n"
     ]
    }
   ],
   "source": [
    "uesr = {\n",
    "    \"name\": \"shifa\",\n",
    "    \"father_name\": \"akram\",\n",
    "    \"age\": \"i m a baby\"\n",
    "}\n",
    "\n",
    "print(uesr[\"name\"])\n",
    "print(uesr[\"age\"])\n",
    "\n",
    "uesr[\"age\"] = 15\n",
    "print(uesr[\"age\"])\n",
    "\n",
    "uesr [\"country\"] = \"pakistan\"\n",
    "print(uesr)"
   ]
  },
  {
   "cell_type": "code",
   "execution_count": 16,
   "metadata": {},
   "outputs": [
    {
     "name": "stdout",
     "output_type": "stream",
     "text": [
      "ok...!! i m very joke person ok....\n"
     ]
    }
   ],
   "source": [
    "JOKE = 'ok...!! i m very joke person ok....'\n",
    "\n",
    "def boot():\n",
    "    user_input = input(\"ask me a joke\")\n",
    "    if \"joke\" in user_input:\n",
    "        print(JOKE)\n",
    "    else:\n",
    "        print(\"sorry we only tell jokes\")\n",
    "\n",
    "    \n",
    "  \n",
    "\n",
    "\n",
    "boot()"
   ]
  },
  {
   "cell_type": "code",
   "execution_count": null,
   "metadata": {},
   "outputs": [
    {
     "name": "stdout",
     "output_type": "stream",
     "text": [
      "45\n",
      "2\n",
      "123 Street Name\n",
      "Ding Dong\n",
      "2\n",
      "56\n",
      "456 Another St\n",
      "Ding Dong\n"
     ]
    }
   ],
   "source": [
    "# class \n",
    "class My_House:\n",
    "    rooms = 2\n",
    "    doors:int \n",
    "    address: str\n",
    "\n",
    "    def __init__(self, address: str, doors: int):\n",
    "        self.address = address\n",
    "        self.doors = doors\n",
    "\n",
    "     # making functionality in class which we can use it anywhere else.....!!! \n",
    "    def ring_belll (self):\n",
    "        print(\"Ding Dong\")\n",
    "\n",
    "      # OBJECT\n",
    "# create objects with address\n",
    "shifa_House = My_House(\"123 Street Name\",45 )\n",
    "print(shifa_House.doors)\n",
    "print(shifa_House.rooms)\n",
    "print(shifa_House.address)\n",
    "# calling functionality wala def \n",
    "shifa_House.ring_belll()\n",
    "\n",
    "# another object \n",
    "marayam_house = My_House(\"456 Another St\",56 )\n",
    "print(marayam_house.rooms)\n",
    "print(marayam_house.doors)\n",
    "print(marayam_house.address)\n",
    "\n",
    "# calling functionality wala def \n",
    "marayam_house.ring_belll()\n",
    "\n",
    "    "
   ]
  },
  {
   "cell_type": "code",
   "execution_count": 12,
   "metadata": {},
   "outputs": [],
   "source": [
    "class student:\n",
    "    def __init__(self,  Name:str, Age:int):\n",
    "        self.Name = Name\n",
    "        self.Age = Age\n",
    "      \n",
    "      #method\n",
    "    def student_details(self):\n",
    "        print(\"heloo shifa\")\n",
    "\n",
    "\n",
    "\n",
    "\n",
    "        student1 = student(\"shifa\", 7)\n",
    "        print(student1.Name)\n",
    "        student1.student_details()\n",
    "       "
   ]
  },
  {
   "cell_type": "code",
   "execution_count": null,
   "metadata": {},
   "outputs": [
    {
     "name": "stdout",
     "output_type": "stream",
     "text": [
      "74\n",
      "43\n"
     ]
    }
   ],
   "source": [
    "import random\n",
    "\n",
    "\n",
    "\n",
    "\n",
    "my_randon_mum:int = random.randint(1, 100)\n",
    "computer_num:int = random.randint(1, 100)\n",
    "\n",
    "print(my_randon_mum)\n",
    "print(computer_num)\n",
    "\n",
    "choices = input(\"guess your number is that is low or high \")\n",
    "\n",
    "if ((choices == \"higher\" and my_randon_mum > computer_num)\n",
    "or\n",
    " (choices == \"higher\" and my_randon_mum > computer_num)\n",
    "):\n",
    "    print(\"you got a point + 1\")\n",
    "else:\n",
    "    print(\"wrong answer\")\n",
    "\n",
    "\n"
   ]
  },
  {
   "cell_type": "code",
   "execution_count": 2,
   "metadata": {},
   "outputs": [],
   "source": [
    "# last class assignment\n",
    "\n",
    "#module in python  is a file that contain python code ...!!\n",
    "\n",
    "def say_hello():\n",
    "    print(\"heloo world\")\n",
    "\n",
    "    # how to import it to another file\n",
    "\n",
    "    import base \n",
    "    print(base.say_hello())\n",
    "\n",
    "\n",
    "    #functions in python\n",
    "    #block of statments that perform a specific tasks\n",
    "\n",
    "    def sum(a, b):\n",
    "        s = a + b \n",
    "        return s \n",
    "    \n",
    "    print(sum(2 + 4))\n",
    "\n",
    "\n",
    "\n"
   ]
  },
  {
   "cell_type": "code",
   "execution_count": null,
   "metadata": {},
   "outputs": [],
   "source": [
    "#\n",
    "try:\n",
    "    num1 = int(input(\"enter your number:\"))\n",
    "    print(num1 * 2)\n",
    "except ValueError:\n",
    "    print(\"invalid input! please enter a valid number\")\n",
    "\n",
    "\n",
    "    #File Handling in Python\n",
    "file = open(\"example.txt\", \"r\")  # Open in read mode\n",
    "content = file.read()  # Read entire file\n",
    "print(content)  \n",
    "file.close()  # Close the file\n",
    "\n",
    "\n",
    "#The Math & Date Time Calendar\n",
    "from datetime import datetime\n",
    "now = datetime.now()\n",
    "print(now)  # Example Output: 2025-03-21 10:30:15.456789\n",
    "\n",
    "import math\n",
    "\n",
    "num = float(input(\"Enter a number: \"))\n",
    "sqrt_value = math.sqrt(num)\n",
    "print(f\"Square root of {num} is {sqrt_value}\")\n",
    "\n",
    "\n",
    "\n"
   ]
  }
 ],
 "metadata": {
  "kernelspec": {
   "display_name": "Python 3",
   "language": "python",
   "name": "python3"
  },
  "language_info": {
   "codemirror_mode": {
    "name": "ipython",
    "version": 3
   },
   "file_extension": ".py",
   "mimetype": "text/x-python",
   "name": "python",
   "nbconvert_exporter": "python",
   "pygments_lexer": "ipython3",
   "version": "3.11.0"
  }
 },
 "nbformat": 4,
 "nbformat_minor": 2
}
