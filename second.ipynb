{
 "cells": [
  {
   "cell_type": "code",
   "execution_count": 8,
   "metadata": {},
   "outputs": [
    {
     "name": "stdout",
     "output_type": "stream",
     "text": [
      "Addition: 30\n",
      "subtraction: 30\n",
      "multiplication: 200\n",
      "division: 2.0\n",
      "floor division: 2\n",
      "modules: 0\n",
      "exponent: 10240000000000\n"
     ]
    }
   ],
   "source": [
    "#Arithmetic operators\n",
    "#Addition\n",
    "a = 20\n",
    "b = 10\n",
    "resut1 = a + b \n",
    "print('Addition:', resut1)\n",
    "\n",
    "#subtraction\n",
    "resut2 = a - b\n",
    "print(\"subtraction:\", resut1)\n",
    "\n",
    "#multiplication\n",
    "result3 = a * b \n",
    "print(\"multiplication:\", result3)\n",
    "\n",
    "#division \n",
    "result4 = a/ b \n",
    "print(\"division:\", result4)\n",
    "\n",
    "#floor division\n",
    "result5 = a // b \n",
    "print(\"floor division:\", result5)\n",
    "\n",
    "#modulus\n",
    "result6 = a % b\n",
    "print('modules:', result6)\n",
    "\n",
    "#exponent\n",
    "result7 = a ** b\n",
    "print(\"exponent:\", result7)\n",
    "\n",
    "   "
   ]
  },
  {
   "cell_type": "code",
   "execution_count": 10,
   "metadata": {},
   "outputs": [
    {
     "name": "stdout",
     "output_type": "stream",
     "text": [
      "Equal: False\n",
      "not equal: True\n",
      "Greater than: True\n",
      "Less than: False\n",
      "Greater than or equal to: True\n",
      "less than or equal to: False\n"
     ]
    }
   ],
   "source": [
    "#Comparison Operators\n",
    "\n",
    "#Equal\n",
    "c = 20\n",
    "d = 10\n",
    "result = c == d\n",
    "print('Equal:', result)\n",
    "\n",
    "#Not Equal\n",
    "result = c!=d\n",
    "print(\"not equal:\", result)\n",
    "\n",
    "#Greater than\n",
    "result = c > d\n",
    "print(\"Greater than:\", result)\n",
    "\n",
    "#Less than\n",
    "result = c < d\n",
    "print(\"Less than:\", result)\n",
    "\n",
    "#Greater than or equal to\n",
    "result = c>= d\n",
    "print(\"Greater than or equal to:\", result)\n",
    "# less than or equal to \n",
    "result = c <=d\n",
    "print(\"less than or equal to:\", result)\n"
   ]
  },
  {
   "cell_type": "code",
   "execution_count": 12,
   "metadata": {},
   "outputs": [
    {
     "name": "stdout",
     "output_type": "stream",
     "text": [
      "and: False\n",
      "or: True\n",
      "not: True\n"
     ]
    }
   ],
   "source": [
    "# logical operators \n",
    "\n",
    "# and\n",
    "x = 10\n",
    "y = 5\n",
    "result = x > 10 and y < 8\n",
    "print(\"and:\", result) \n",
    "\n",
    "\n",
    "# or \n",
    "result = x > 10 or y < 8\n",
    "print('or:', result)\n",
    "\n",
    "# not\n",
    "result = (not x > 10 and y < 8)\n",
    "print('not:', result)\n"
   ]
  },
  {
   "cell_type": "code",
   "execution_count": null,
   "metadata": {},
   "outputs": [
    {
     "name": "stdout",
     "output_type": "stream",
     "text": [
      "add and assign: 15\n",
      "subtract and assign: -2\n",
      "multiply and assign: 50\n",
      "3.0\n",
      "3\n",
      "1\n",
      "8\n"
     ]
    }
   ],
   "source": [
    "#assignment operators\n",
    "\n",
    "x = 10\n",
    "x += 5\n",
    "\n",
    "print(\"add and assign:\", x)\n",
    "\n",
    "# subtract and assign\n",
    "x = 10\n",
    "x -= 12\n",
    "print(\"subtract and assign:\", x)\n",
    "\n",
    "# Multiply and Assign\n",
    "x = 10\n",
    "x *= 5 \n",
    "print(\"multiply and assign:\", x)\n",
    "# Divide and Assign (/=)\n",
    "x = 12  \n",
    "x /= 4  \n",
    "print(x)  \n",
    "\n",
    "#Floor Divide and Assign (//=)\n",
    "x = 10  \n",
    "x //= 3  \n",
    "print(x)  \n",
    "#  Modulus and Assign (%=)\n",
    "\n",
    "x = 10  \n",
    "x %= 3  \n",
    "print(x)\n",
    "\n",
    "#Exponent and Assign (**=)\n",
    "x = 2  \n",
    "x **= 3  \n",
    "print(x) "
   ]
  },
  {
   "cell_type": "code",
   "execution_count": 23,
   "metadata": {},
   "outputs": [
    {
     "name": "stdout",
     "output_type": "stream",
     "text": [
      "True\n",
      "False\n",
      "False\n",
      "True\n"
     ]
    }
   ],
   "source": [
    "# Identity Operators\n",
    "# is \n",
    "a = [1,2,3,4,5]\n",
    "b = a \n",
    "c = [1,2,3]\n",
    "print(a is b)\n",
    "print(a is c)\n",
    "\n",
    "# is not \n",
    "x = 10\n",
    "y = 10\n",
    "z = [10]\n",
    "print(x is not y)\n",
    "print(x is not z)"
   ]
  },
  {
   "cell_type": "code",
   "execution_count": 25,
   "metadata": {},
   "outputs": [
    {
     "name": "stdout",
     "output_type": "stream",
     "text": [
      "True\n",
      "False\n",
      "False\n",
      "True\n"
     ]
    }
   ],
   "source": [
    "#Membership operators\n",
    "\n",
    "fruits = [ 'apple', 'banna', 'cherry']\n",
    "print('apple'in fruits)\n",
    "print('mango'in fruits)\n",
    "\n",
    "# not in\n",
    "text = 'hello world'\n",
    "print(\"hello world\" not in text)\n",
    "print(\"hello\" in text)\n"
   ]
  },
  {
   "cell_type": "code",
   "execution_count": 26,
   "metadata": {},
   "outputs": [
    {
     "name": "stdout",
     "output_type": "stream",
     "text": [
      "a = 5, b = 3\n",
      "Bitwise AND (a & b) = 1\n",
      "Bitwise OR (a | b) = 7\n",
      "Bitwise XOR (a ^ b) = 6\n",
      "Bitwise NOT (~a) = -6\n",
      "Bitwise Left Shift (a << 1) = 10\n",
      "Bitwise Right Shift (a >> 1) = 2\n"
     ]
    }
   ],
   "source": [
    "# Bitwise operators\n",
    "# Bitwise Operators in Python\n",
    "\n",
    "# Define two numbers\n",
    "a = 5   \n",
    "b = 3  \n",
    "\n",
    "# Applying bitwise operators\n",
    "bitwise_and = a & b   \n",
    "bitwise_or = a | b    \n",
    "bitwise_xor = a ^ b    \n",
    "bitwise_not_a = ~a    \n",
    "bitwise_left_shift = a << 1  \n",
    "bitwise_right_shift = a >> 1 \n",
    "\n",
    "# Printing results\n",
    "print(f\"a = {a}, b = {b}\")\n",
    "print(f\"Bitwise AND (a & b) = {bitwise_and}\")      \n",
    "print(f\"Bitwise OR (a | b) = {bitwise_or}\")        \n",
    "print(f\"Bitwise XOR (a ^ b) = {bitwise_xor}\")      \n",
    "print(f\"Bitwise NOT (~a) = {bitwise_not_a}\")       \n",
    "print(f\"Bitwise Left Shift (a << 1) = {bitwise_left_shift}\")  \n",
    "print(f\"Bitwise Right Shift (a >> 1) = {bitwise_right_shift}\") \n"
   ]
  },
  {
   "cell_type": "code",
   "execution_count": null,
   "metadata": {},
   "outputs": [],
   "source": [
    "#ASSIGNMENT \n",
    "\n",
    "# if else statment\n",
    "\n",
    "predefinde_userNmae =\"Ashraib ali\"\n",
    "pre_define_password = 1234\n",
    "\n",
    "\n",
    "userName = input(\"enter your UseraName\")\n",
    "password = int(input(\"enter your password\"))\n",
    "\n",
    "if predefinde_userNmae == userName:\n",
    "    if pre_define_password == password:\n",
    "        print(\"login successfull\")\n",
    "    else:\n",
    "        print(\"Incorrect userName\")\n",
    "else:\n",
    "    print(\"incorrect password\")\n",
    "\n",
    "\n",
    "    \n",
    " \n",
    "\n",
    "\n"
   ]
  },
  {
   "cell_type": "code",
   "execution_count": null,
   "metadata": {},
   "outputs": [
    {
     "name": "stdout",
     "output_type": "stream",
     "text": [
      "0\n",
      "1\n",
      "2\n"
     ]
    }
   ],
   "source": [
    "print(\"Enter PCM marks out of 100\")\n",
    "\n",
    "physis_marks = int(input(\"Enter your physics marks:\"))\n",
    "chemistry_marks = int(input(\"Enter your chemistry marks\"))\n",
    "maths_marks = int(input(\"Enter your maths marks\"))\n",
    "\n",
    "if ( maths_marks >= 65 and  \n",
    "physis_marks >= 55 and\n",
    "chemistry_marks >= 50 and\n",
    "maths_marks + physis_marks +  chemistry_marks >= 180 ) or \\\n",
    "(maths_marks + physis_marks) >= 140:\n",
    "    print(\"your eligiable \")\n",
    "else:\n",
    "    print(\"sorry your not eligiable\")\n",
    "\n",
    "    # loops \n",
    "    for num in range(5):\n",
    "        if num ==3:\n",
    "            break\n",
    "        print(num)\n",
    "\n",
    "        # while loops \n",
    "        count = 1 \n",
    "\n",
    "        while count <= 5:\n",
    "            print(count)\n",
    "            count +1\n",
    "\n",
    "\n",
    "\n"
   ]
  },
  {
   "cell_type": "code",
   "execution_count": null,
   "metadata": {},
   "outputs": [],
   "source": [
    "# list \n",
    "\n",
    "fruits: list = [\"apple\", \"banana\", \"cherry\"]\n",
    "print(fruits[0])   \n",
    "print(fruits[-3])  \n",
    "\n",
    "# tuple\n",
    "tuple_1: tuple = (10, 20, 30) \n",
    "tuple_2: tuple = (10, 20, 30) \n",
    "\n",
    "print(\"id(tuple_1) = \", id(tuple_1)) \n",
    "print(\"id(tuple_2) = \", id(tuple_2))\n",
    "\n",
    "\n",
    "# Dictionary\n",
    "thisdict: dict = {\n",
    "  \"brand\": \"Ford\",\n",
    "  \"model\": \"Mustang\",\n",
    "  \"year\": 1964,\n",
    "  \"year\": 2020 # this will overwrite the previous key:vlaue\n",
    "}\n",
    "print(thisdict)\n",
    "\n"
   ]
  },
  {
   "cell_type": "code",
   "execution_count": 3,
   "metadata": {},
   "outputs": [
    {
     "name": "stdout",
     "output_type": "stream",
     "text": [
      "{123, 452, 5, 6}\n",
      "{123, 452, 5, 6}\n",
      "my_frozenset  =  frozenset({1, 2, 3, 'Hello! World'})\n"
     ]
    }
   ],
   "source": [
    "# set \n",
    "my_set: set = {123, 452, 5, 6}\n",
    "my_set2: set = set([123, 452, 5, 6])\n",
    "print(my_set)\n",
    "print(my_set2)\n",
    "\n",
    "# frozenset\n",
    "my_frozenset: frozenset = frozenset([1,2,3, \"Hello! World\"])\n",
    "print(\"my_frozenset  = \", my_frozenset)\n",
    "\n"
   ]
  }
 ],
 "metadata": {
  "kernelspec": {
   "display_name": "Python 3",
   "language": "python",
   "name": "python3"
  },
  "language_info": {
   "codemirror_mode": {
    "name": "ipython",
    "version": 3
   },
   "file_extension": ".py",
   "mimetype": "text/x-python",
   "name": "python",
   "nbconvert_exporter": "python",
   "pygments_lexer": "ipython3",
   "version": "3.12.9"
  }
 },
 "nbformat": 4,
 "nbformat_minor": 2
}
