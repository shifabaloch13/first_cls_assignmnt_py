{
 "cells": [
  {
   "cell_type": "code",
   "execution_count": null,
   "metadata": {},
   "outputs": [],
   "source": [
    "#ASSIGNMENT \n",
    "\n",
    "# if else statment\n",
    "\n",
    "predefinde_userNmae =\"Ashraib ali\"\n",
    "pre_define_password = 1234\n",
    "\n",
    "\n",
    "userName = input(\"enter your UseraName\")\n",
    "password = int(input(\"enter your password\"))\n",
    "\n",
    "if predefinde_userNmae == userName:\n",
    "    if pre_define_password == password:\n",
    "        print(\"login successfull\")\n",
    "    else:\n",
    "        print(\"Incorrect userName\")\n",
    "else:\n",
    "    print(\"incorrect password\")\n"
   ]
  },
  {
   "cell_type": "code",
   "execution_count": null,
   "metadata": {},
   "outputs": [],
   "source": [
    "print(\"Enter PCM marks out of 100\")\n",
    "\n",
    "physis_marks = int(input(\"Enter your physics marks:\"))\n",
    "chemistry_marks = int(input(\"Enter your chemistry marks\"))\n",
    "maths_marks = int(input(\"Enter your maths marks\"))\n",
    "\n",
    "if ( maths_marks >= 65 and  \n",
    "physis_marks >= 55 and\n",
    "chemistry_marks >= 50 and\n",
    "maths_marks + physis_marks +  chemistry_marks >= 180 ) or \\\n",
    "(maths_marks + physis_marks) >= 140:\n",
    "    print(\"your eligiable \")\n",
    "else:\n",
    "    print(\"sorry your not eligiable\")\n",
    "\n",
    "    # loops \n",
    "    for num in range(5):\n",
    "        if num ==3:\n",
    "            break\n",
    "        print(num)\n",
    "\n",
    "        # while loops \n",
    "        count = 1 \n",
    "\n",
    "        while count <= 5:\n",
    "            print(count)\n",
    "            count +1"
   ]
  },
  {
   "cell_type": "code",
   "execution_count": null,
   "metadata": {},
   "outputs": [],
   "source": [
    "# list \n",
    "\n",
    "fruits: list = [\"apple\", \"banana\", \"cherry\"]\n",
    "print(fruits[0])   \n",
    "print(fruits[-3])  \n",
    "\n",
    "# tuple\n",
    "tuple_1: tuple = (10, 20, 30) \n",
    "tuple_2: tuple = (10, 20, 30) \n",
    "\n",
    "print(\"id(tuple_1) = \", id(tuple_1)) \n",
    "print(\"id(tuple_2) = \", id(tuple_2))\n",
    "\n",
    "\n",
    "# Dictionary\n",
    "thisdict: dict = {\n",
    "  \"brand\": \"Ford\",\n",
    "  \"model\": \"Mustang\",\n",
    "  \"year\": 1964,\n",
    "  \"year\": 2020 # this will overwrite the previous key:vlaue\n",
    "}\n",
    "print(thisdict)"
   ]
  },
  {
   "cell_type": "code",
   "execution_count": null,
   "metadata": {},
   "outputs": [],
   "source": [
    "# set \n",
    "my_set: set = {123, 452, 5, 6}\n",
    "my_set2: set = set([123, 452, 5, 6])\n",
    "print(my_set)\n",
    "print(my_set2)\n",
    "\n",
    "# frozenset\n",
    "my_frozenset: frozenset = frozenset([1,2,3, \"Hello! World\"])\n",
    "print(\"my_frozenset  = \", my_frozenset)"
   ]
  }
 ],
 "metadata": {
  "language_info": {
   "name": "python"
  }
 },
 "nbformat": 4,
 "nbformat_minor": 2
}
