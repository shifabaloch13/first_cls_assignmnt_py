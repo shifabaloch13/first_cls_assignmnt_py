{
 "cells": [
  {
   "cell_type": "code",
   "execution_count": null,
   "metadata": {},
   "outputs": [],
   "source": [
    "#ASSIGNMENT \n",
    "\n",
    "# if else statment\n",
    "\n",
    "predefinde_userNmae =\"Ashraib ali\"\n",
    "pre_define_password = 1234\n",
    "\n",
    "\n",
    "userName = input(\"enter your UseraName\")\n",
    "password = int(input(\"enter your password\"))\n",
    "\n",
    "if predefinde_userNmae == userName:\n",
    "    if pre_define_password == password:\n",
    "        print(\"login successfull\")\n",
    "    else:\n",
    "        print(\"Incorrect userName\")\n",
    "else:\n",
    "    print(\"incorrect password\")"
   ]
  }
 ],
 "metadata": {
  "language_info": {
   "name": "python"
  }
 },
 "nbformat": 4,
 "nbformat_minor": 2
}
